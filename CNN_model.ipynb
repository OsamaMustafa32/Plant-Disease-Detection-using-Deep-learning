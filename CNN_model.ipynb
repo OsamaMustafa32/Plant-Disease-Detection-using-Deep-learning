{
  "nbformat": 4,
  "nbformat_minor": 0,
  "metadata": {
    "colab": {
      "provenance": [],
      "gpuType": "T4",
      "mount_file_id": "16T66Rp-lzLoqoF4DiuLxLJskuvN_ZqZH",
      "authorship_tag": "ABX9TyNheyKNbyi3am9/vbOoQBNZ",
      "include_colab_link": true
    },
    "kernelspec": {
      "name": "python3",
      "display_name": "Python 3"
    },
    "language_info": {
      "name": "python"
    },
    "accelerator": "GPU",
    "gpuClass": "standard"
  },
  "cells": [
    {
      "cell_type": "markdown",
      "metadata": {
        "id": "view-in-github",
        "colab_type": "text"
      },
      "source": [
        "<a href=\"https://colab.research.google.com/github/OsamaMustafa32/Plant-Disease-Detecttion-using-Deep-learning/blob/main/CNN_model.ipynb\" target=\"_parent\"><img src=\"https://colab.research.google.com/assets/colab-badge.svg\" alt=\"Open In Colab\"/></a>"
      ]
    },
    {
      "cell_type": "code",
      "execution_count": 1,
      "metadata": {
        "id": "-vnP4FvTBtBm"
      },
      "outputs": [],
      "source": [
        "import tensorflow as tf\n",
        "from tensorflow import keras"
      ]
    },
    {
      "cell_type": "code",
      "source": [
        "from tensorflow.keras.preprocessing.image import ImageDataGenerator"
      ],
      "metadata": {
        "id": "WJdxz19sB7wJ"
      },
      "execution_count": 2,
      "outputs": []
    },
    {
      "cell_type": "code",
      "source": [
        "train_datagen = ImageDataGenerator(rescale = 1./255,\n",
        "                                   shear_range = 0.2,\n",
        "                                   zoom_range = 0.2,\n",
        "                                   horizontal_flip = True,\n",
        "                                   fill_mode='nearest')"
      ],
      "metadata": {
        "id": "X7QaqRX3B_D3"
      },
      "execution_count": 3,
      "outputs": []
    },
    {
      "cell_type": "code",
      "source": [
        "from google.colab import drive\n",
        "drive.mount('/content/drive')"
      ],
      "metadata": {
        "colab": {
          "base_uri": "https://localhost:8080/"
        },
        "id": "eoxYM24mXN2z",
        "outputId": "980f577a-8745-4727-9bc3-2f9257b50c4d"
      },
      "execution_count": 4,
      "outputs": [
        {
          "output_type": "stream",
          "name": "stdout",
          "text": [
            "Drive already mounted at /content/drive; to attempt to forcibly remount, call drive.mount(\"/content/drive\", force_remount=True).\n"
          ]
        }
      ]
    },
    {
      "cell_type": "code",
      "source": [
        "test_datagen = ImageDataGenerator(rescale = 1./255)"
      ],
      "metadata": {
        "id": "2WJQ274mXaNb"
      },
      "execution_count": 5,
      "outputs": []
    },
    {
      "cell_type": "code",
      "source": [
        "training_set = train_datagen.flow_from_directory('/content/drive/MyDrive/Dataset/Train/Train',\n",
        "                                                 target_size = (64, 64),\n",
        "                                                 batch_size = 32,\n",
        "                                                 class_mode = 'categorical')"
      ],
      "metadata": {
        "colab": {
          "base_uri": "https://localhost:8080/"
        },
        "id": "_-vNNdbEYxwY",
        "outputId": "0b87e515-2d1a-4a5b-f011-9abfa920447f"
      },
      "execution_count": 6,
      "outputs": [
        {
          "output_type": "stream",
          "name": "stdout",
          "text": [
            "Found 1333 images belonging to 3 classes.\n"
          ]
        }
      ]
    },
    {
      "cell_type": "code",
      "source": [
        "test_set = test_datagen.flow_from_directory('/content/drive/MyDrive/Dataset/Test/Test',\n",
        "                                            target_size = (64, 64),\n",
        "                                            batch_size = 32,\n",
        "                                            class_mode = 'categorical')"
      ],
      "metadata": {
        "colab": {
          "base_uri": "https://localhost:8080/"
        },
        "id": "0ktf4yEPchrC",
        "outputId": "ca5503b5-23ca-4327-e1ba-192805a02705"
      },
      "execution_count": 7,
      "outputs": [
        {
          "output_type": "stream",
          "name": "stdout",
          "text": [
            "Found 150 images belonging to 3 classes.\n"
          ]
        }
      ]
    },
    {
      "cell_type": "code",
      "source": [
        "cnn = tf.keras.models.Sequential()"
      ],
      "metadata": {
        "id": "CCwJeZupcwRU"
      },
      "execution_count": 8,
      "outputs": []
    },
    {
      "cell_type": "code",
      "source": [
        "cnn.add(tf.keras.layers.Conv2D(filters=32, kernel_size=3, activation='relu', input_shape=[64, 64, 3]))\n",
        "cnn.add(tf.keras.layers.MaxPool2D(pool_size=2, strides=2))"
      ],
      "metadata": {
        "id": "c5JaRwqUcy5e"
      },
      "execution_count": 9,
      "outputs": []
    },
    {
      "cell_type": "code",
      "source": [
        "cnn.add(tf.keras.layers.Conv2D(filters=32, kernel_size=3, activation='relu'))\n",
        "cnn.add(tf.keras.layers.MaxPool2D(pool_size=2, strides=2))"
      ],
      "metadata": {
        "id": "IlMBHpWjc0j0"
      },
      "execution_count": 10,
      "outputs": []
    },
    {
      "cell_type": "code",
      "source": [
        "cnn.add(tf.keras.layers.Conv2D(filters=48, kernel_size=3, activation='relu'))\n",
        "cnn.add(tf.keras.layers.MaxPool2D(pool_size=2, strides=2))"
      ],
      "metadata": {
        "id": "qh94NtVBc8LT"
      },
      "execution_count": 11,
      "outputs": []
    },
    {
      "cell_type": "code",
      "source": [
        "cnn.add(tf.keras.layers.Flatten())"
      ],
      "metadata": {
        "id": "8keFnv-vc-oX"
      },
      "execution_count": 12,
      "outputs": []
    },
    {
      "cell_type": "code",
      "source": [
        "cnn.add(tf.keras.layers.Dense(units=128, activation='relu'))"
      ],
      "metadata": {
        "id": "jiMWxBJPdANC"
      },
      "execution_count": 13,
      "outputs": []
    },
    {
      "cell_type": "code",
      "source": [
        "cnn.add(tf.keras.layers.Dense(units=3, activation='softmax'))"
      ],
      "metadata": {
        "id": "5tlNYx_gdDNy"
      },
      "execution_count": 14,
      "outputs": []
    },
    {
      "cell_type": "code",
      "source": [
        "optimizer=keras.optimizers.Adam(learning_rate=0.001)"
      ],
      "metadata": {
        "id": "FMBCVmyNdFNo"
      },
      "execution_count": 15,
      "outputs": []
    },
    {
      "cell_type": "code",
      "source": [
        "cnn.compile(optimizer =optimizer , loss = 'categorical_crossentropy', metrics = ['accuracy'])"
      ],
      "metadata": {
        "id": "ED_nUau4dH5n"
      },
      "execution_count": 16,
      "outputs": []
    },
    {
      "cell_type": "code",
      "source": [
        "cnn.summary()"
      ],
      "metadata": {
        "colab": {
          "base_uri": "https://localhost:8080/"
        },
        "id": "xBnYQZqbRVVo",
        "outputId": "1403791f-d251-4d54-96da-9448e42d48dc"
      },
      "execution_count": 18,
      "outputs": [
        {
          "output_type": "stream",
          "name": "stdout",
          "text": [
            "Model: \"sequential\"\n",
            "_________________________________________________________________\n",
            " Layer (type)                Output Shape              Param #   \n",
            "=================================================================\n",
            " conv2d (Conv2D)             (None, 62, 62, 32)        896       \n",
            "                                                                 \n",
            " max_pooling2d (MaxPooling2D  (None, 31, 31, 32)       0         \n",
            " )                                                               \n",
            "                                                                 \n",
            " conv2d_1 (Conv2D)           (None, 29, 29, 32)        9248      \n",
            "                                                                 \n",
            " max_pooling2d_1 (MaxPooling  (None, 14, 14, 32)       0         \n",
            " 2D)                                                             \n",
            "                                                                 \n",
            " conv2d_2 (Conv2D)           (None, 12, 12, 48)        13872     \n",
            "                                                                 \n",
            " max_pooling2d_2 (MaxPooling  (None, 6, 6, 48)         0         \n",
            " 2D)                                                             \n",
            "                                                                 \n",
            " flatten (Flatten)           (None, 1728)              0         \n",
            "                                                                 \n",
            " dense (Dense)               (None, 128)               221312    \n",
            "                                                                 \n",
            " dense_1 (Dense)             (None, 3)                 387       \n",
            "                                                                 \n",
            "=================================================================\n",
            "Total params: 245,715\n",
            "Trainable params: 245,715\n",
            "Non-trainable params: 0\n",
            "_________________________________________________________________\n"
          ]
        }
      ]
    },
    {
      "cell_type": "code",
      "source": [
        "cnn.fit(training_set,validation_data=test_set,epochs=30)"
      ],
      "metadata": {
        "colab": {
          "base_uri": "https://localhost:8080/"
        },
        "id": "0meuiA7UdMaS",
        "outputId": "b9f9790d-1933-4f23-cb07-3082aa4264dc"
      },
      "execution_count": null,
      "outputs": [
        {
          "output_type": "stream",
          "name": "stdout",
          "text": [
            "Epoch 1/30\n",
            "42/42 [==============================] - 615s 14s/step - loss: 1.0066 - accuracy: 0.4636 - val_loss: 0.8213 - val_accuracy: 0.5467\n",
            "Epoch 2/30\n",
            "42/42 [==============================] - 223s 5s/step - loss: 0.7350 - accuracy: 0.6519 - val_loss: 0.6673 - val_accuracy: 0.7200\n",
            "Epoch 3/30\n",
            "42/42 [==============================] - 228s 5s/step - loss: 0.6343 - accuracy: 0.7112 - val_loss: 0.7589 - val_accuracy: 0.6400\n",
            "Epoch 4/30\n",
            "42/42 [==============================] - 220s 5s/step - loss: 0.5718 - accuracy: 0.7607 - val_loss: 0.6733 - val_accuracy: 0.7267\n",
            "Epoch 5/30\n",
            "42/42 [==============================] - 217s 5s/step - loss: 0.4583 - accuracy: 0.8140 - val_loss: 0.5293 - val_accuracy: 0.8333\n",
            "Epoch 6/30\n",
            "42/42 [==============================] - 218s 5s/step - loss: 0.3289 - accuracy: 0.8755 - val_loss: 0.3250 - val_accuracy: 0.8867\n",
            "Epoch 7/30\n",
            "42/42 [==============================] - 217s 5s/step - loss: 0.2635 - accuracy: 0.9010 - val_loss: 0.2757 - val_accuracy: 0.8867\n",
            "Epoch 8/30\n",
            "42/42 [==============================] - 216s 5s/step - loss: 0.2408 - accuracy: 0.9107 - val_loss: 0.3467 - val_accuracy: 0.9000\n",
            "Epoch 9/30\n",
            "42/42 [==============================] - 218s 5s/step - loss: 0.2267 - accuracy: 0.9152 - val_loss: 0.2474 - val_accuracy: 0.9267\n",
            "Epoch 10/30\n",
            "42/42 [==============================] - 214s 5s/step - loss: 0.2314 - accuracy: 0.9182 - val_loss: 0.2386 - val_accuracy: 0.9000\n",
            "Epoch 11/30\n",
            "42/42 [==============================] - 216s 5s/step - loss: 0.2145 - accuracy: 0.9280 - val_loss: 0.3911 - val_accuracy: 0.8867\n",
            "Epoch 12/30\n",
            "42/42 [==============================] - 216s 5s/step - loss: 0.1506 - accuracy: 0.9452 - val_loss: 0.3423 - val_accuracy: 0.9067\n",
            "Epoch 13/30\n",
            "42/42 [==============================] - 215s 5s/step - loss: 0.1301 - accuracy: 0.9535 - val_loss: 0.4482 - val_accuracy: 0.8667\n",
            "Epoch 14/30\n",
            "42/42 [==============================] - 217s 5s/step - loss: 0.1591 - accuracy: 0.9460 - val_loss: 0.2078 - val_accuracy: 0.9333\n",
            "Epoch 15/30\n",
            "42/42 [==============================] - 216s 5s/step - loss: 0.1085 - accuracy: 0.9632 - val_loss: 0.2663 - val_accuracy: 0.9267\n",
            "Epoch 16/30\n",
            "42/42 [==============================] - 214s 5s/step - loss: 0.1007 - accuracy: 0.9707 - val_loss: 0.1890 - val_accuracy: 0.9400\n",
            "Epoch 17/30\n",
            "42/42 [==============================] - 217s 5s/step - loss: 0.1247 - accuracy: 0.9587 - val_loss: 0.3195 - val_accuracy: 0.9133\n",
            "Epoch 18/30\n",
            "42/42 [==============================] - 216s 5s/step - loss: 0.1234 - accuracy: 0.9535 - val_loss: 0.1543 - val_accuracy: 0.9600\n",
            "Epoch 19/30\n",
            "42/42 [==============================] - 217s 5s/step - loss: 0.1118 - accuracy: 0.9610 - val_loss: 0.2062 - val_accuracy: 0.9533\n",
            "Epoch 20/30\n",
            "42/42 [==============================] - 217s 5s/step - loss: 0.1098 - accuracy: 0.9632 - val_loss: 0.2301 - val_accuracy: 0.9400\n",
            "Epoch 21/30\n",
            "42/42 [==============================] - 225s 5s/step - loss: 0.0856 - accuracy: 0.9670 - val_loss: 0.1738 - val_accuracy: 0.9667\n",
            "Epoch 22/30\n",
            "42/42 [==============================] - 216s 5s/step - loss: 0.0985 - accuracy: 0.9677 - val_loss: 0.1781 - val_accuracy: 0.9400\n",
            "Epoch 23/30\n",
            "42/42 [==============================] - 216s 5s/step - loss: 0.0997 - accuracy: 0.9692 - val_loss: 0.4312 - val_accuracy: 0.8667\n",
            "Epoch 24/30\n",
            "42/42 [==============================] - 237s 6s/step - loss: 0.0754 - accuracy: 0.9707 - val_loss: 0.2009 - val_accuracy: 0.9533\n",
            "Epoch 25/30\n",
            "42/42 [==============================] - 218s 5s/step - loss: 0.0901 - accuracy: 0.9692 - val_loss: 0.2917 - val_accuracy: 0.9400\n",
            "Epoch 26/30\n",
            "42/42 [==============================] - 220s 5s/step - loss: 0.0917 - accuracy: 0.9662 - val_loss: 0.2553 - val_accuracy: 0.9467\n",
            "Epoch 27/30\n",
            "42/42 [==============================] - 222s 5s/step - loss: 0.0877 - accuracy: 0.9662 - val_loss: 0.6164 - val_accuracy: 0.8600\n",
            "Epoch 28/30\n",
            "42/42 [==============================] - 242s 6s/step - loss: 0.0989 - accuracy: 0.9632 - val_loss: 0.3174 - val_accuracy: 0.9333\n",
            "Epoch 29/30\n",
            "42/42 [==============================] - 216s 5s/step - loss: 0.0696 - accuracy: 0.9767 - val_loss: 0.4284 - val_accuracy: 0.9267\n",
            "Epoch 30/30\n",
            "42/42 [==============================] - 217s 5s/step - loss: 0.0662 - accuracy: 0.9760 - val_loss: 0.2930 - val_accuracy: 0.9400\n"
          ]
        },
        {
          "output_type": "execute_result",
          "data": {
            "text/plain": [
              "<keras.callbacks.History at 0x7fbbf8af32b0>"
            ]
          },
          "metadata": {},
          "execution_count": 17
        }
      ]
    },
    {
      "cell_type": "code",
      "source": [
        "from tensorflow.keras.models import load_model\n",
        "cnn.save(\"/content/drive/MyDrive/Dataset/trainedmodelCnn_plant.h5\")"
      ],
      "metadata": {
        "id": "-4hmrvr6dTRq"
      },
      "execution_count": null,
      "outputs": []
    },
    {
      "cell_type": "code",
      "source": [
        "conv=tf.keras.models.load_model('/content/drive/MyDrive/Dataset/trainedmodelCnn_plant.h5')"
      ],
      "metadata": {
        "id": "hrIGdCwfdX8K"
      },
      "execution_count": 19,
      "outputs": []
    },
    {
      "cell_type": "code",
      "source": [
        "import cv2\n",
        "from tensorflow.keras.preprocessing import image\n",
        "import matplotlib.pyplot as plt\n",
        "import numpy as np\n",
        "class_names = ['Healthy','Powdery','Rust']\n",
        "def predictClass(filepath):\n",
        "  img1 = image.load_img(filepath, target_size = (64,64))\n",
        "  plt.imshow(img1)\n",
        "  Y = image.img_to_array(img1, dtype=int)\n",
        "  X = np.expand_dims(Y, axis=0)\n",
        "  result = conv.predict(X)\n",
        "  index = np.argmax(result)\n",
        "  #print(index)\n",
        "  print(\"Predicted condition: \", class_names[index])\n",
        "predictClass(\"/content/drive/MyDrive/Dataset/Validation/Validation/Powdery/9b3648259a994f6d.jpg\")\n"
      ],
      "metadata": {
        "id": "RglFpcR4dYBs",
        "colab": {
          "base_uri": "https://localhost:8080/",
          "height": 467
        },
        "outputId": "bb9dd39d-1a96-410a-cf30-af6deea28177"
      },
      "execution_count": 23,
      "outputs": [
        {
          "output_type": "stream",
          "name": "stdout",
          "text": [
            "1/1 [==============================] - 0s 31ms/step\n",
            "Predicted condition:  Powdery\n"
          ]
        },
        {
          "output_type": "display_data",
          "data": {
            "text/plain": [
              "<Figure size 640x480 with 1 Axes>"
            ],
            "image/png": "[encoded data removed]"
          },
          "metadata": {}
        }
      ]
    }
  ]
}